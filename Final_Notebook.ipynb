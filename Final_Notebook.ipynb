{
 "cells": [
  {
   "cell_type": "markdown",
   "id": "1c7bfa7f",
   "metadata": {},
   "source": [
    "# Regression Analysis for Predicting Property Value of 2017 Houses in Zillow Dataset"
   ]
  },
  {
   "cell_type": "markdown",
   "id": "00667c8b",
   "metadata": {},
   "source": [
    "## Goals of this Project:"
   ]
  },
  {
   "cell_type": "markdown",
   "id": "5e33cc9d",
   "metadata": {},
   "source": [
    "1. Determine what features are indicative of house value\n",
    "2. Use regression modeling to make an effective predictive model of the value of a house based on determined features\n",
    "3. Based on the infomation gathered and sorted through, make reccommendations for future models"
   ]
  },
  {
   "cell_type": "markdown",
   "id": "605e98be",
   "metadata": {},
   "source": [
    "## Imports"
   ]
  },
  {
   "cell_type": "code",
   "execution_count": 1,
   "id": "49f45a36",
   "metadata": {},
   "outputs": [],
   "source": [
    "\n",
    "import wrangle as w\n",
    "import model as m\n",
    "\n",
    "import os\n",
    "import numpy as np\n",
    "np.random.seed(198)\n",
    "import pandas as pd\n",
    "from scipy import stats\n",
    "from pydataset import data\n",
    "from math import sqrt\n",
    "\n",
    "import seaborn as sns\n",
    "import matplotlib.pyplot as plt\n",
    "\n",
    "import sklearn.preprocessing as pre\n",
    "from sklearn.preprocessing import PolynomialFeatures\n",
    "\n",
    "from sklearn.feature_selection import RFE\n",
    "from sklearn.metrics import mean_squared_error\n",
    "from sklearn.linear_model import LinearRegression\n",
    "from sklearn.model_selection import train_test_split\n",
    "from sklearn.feature_selection import SelectKBest, f_regression\n",
    "\n",
    "import warnings\n",
    "warnings.filterwarnings(\"ignore\")"
   ]
  },
  {
   "cell_type": "markdown",
   "id": "54f1a579",
   "metadata": {},
   "source": [
    "# 1. Acquire Data"
   ]
  },
  {
   "cell_type": "markdown",
   "id": "71f4aff6",
   "metadata": {},
   "source": [
    "## Function lives in my wrangle file, it will pull in new data if an os path does not already exist. An env file with username, password, and host name is required. "
   ]
  },
  {
   "cell_type": "markdown",
   "id": "bf1d34ad",
   "metadata": {},
   "source": [
    "### For the purposes of this project the features that were pulled from the database are bedroom and bathroom count, the square feet of the completed house, the year built, fips, sqare feet of the lot, and our target variable, tax value dollar count."
   ]
  },
  {
   "cell_type": "code",
   "execution_count": 2,
   "id": "e78ef501",
   "metadata": {},
   "outputs": [],
   "source": [
    "df = w.new_zillow_data()"
   ]
  },
  {
   "cell_type": "code",
   "execution_count": 3,
   "id": "04fd6259",
   "metadata": {},
   "outputs": [
    {
     "data": {
      "text/html": [
       "<div>\n",
       "<style scoped>\n",
       "    .dataframe tbody tr th:only-of-type {\n",
       "        vertical-align: middle;\n",
       "    }\n",
       "\n",
       "    .dataframe tbody tr th {\n",
       "        vertical-align: top;\n",
       "    }\n",
       "\n",
       "    .dataframe thead th {\n",
       "        text-align: right;\n",
       "    }\n",
       "</style>\n",
       "<table border=\"1\" class=\"dataframe\">\n",
       "  <thead>\n",
       "    <tr style=\"text-align: right;\">\n",
       "      <th></th>\n",
       "      <th>bathroomcnt</th>\n",
       "      <th>bedroomcnt</th>\n",
       "      <th>taxvaluedollarcnt</th>\n",
       "      <th>calculatedfinishedsquarefeet</th>\n",
       "      <th>yearbuilt</th>\n",
       "      <th>fips</th>\n",
       "      <th>lotsizesquarefeet</th>\n",
       "    </tr>\n",
       "  </thead>\n",
       "  <tbody>\n",
       "    <tr>\n",
       "      <th>0</th>\n",
       "      <td>3.5</td>\n",
       "      <td>4.0</td>\n",
       "      <td>1023282.0</td>\n",
       "      <td>3100.0</td>\n",
       "      <td>1998.0</td>\n",
       "      <td>6059.0</td>\n",
       "      <td>4506.0</td>\n",
       "    </tr>\n",
       "    <tr>\n",
       "      <th>1</th>\n",
       "      <td>1.0</td>\n",
       "      <td>2.0</td>\n",
       "      <td>464000.0</td>\n",
       "      <td>1465.0</td>\n",
       "      <td>1967.0</td>\n",
       "      <td>6111.0</td>\n",
       "      <td>12647.0</td>\n",
       "    </tr>\n",
       "    <tr>\n",
       "      <th>2</th>\n",
       "      <td>2.0</td>\n",
       "      <td>3.0</td>\n",
       "      <td>564778.0</td>\n",
       "      <td>1243.0</td>\n",
       "      <td>1962.0</td>\n",
       "      <td>6059.0</td>\n",
       "      <td>8432.0</td>\n",
       "    </tr>\n",
       "  </tbody>\n",
       "</table>\n",
       "</div>"
      ],
      "text/plain": [
       "   bathroomcnt  bedroomcnt  taxvaluedollarcnt  calculatedfinishedsquarefeet  \\\n",
       "0          3.5         4.0          1023282.0                        3100.0   \n",
       "1          1.0         2.0           464000.0                        1465.0   \n",
       "2          2.0         3.0           564778.0                        1243.0   \n",
       "\n",
       "   yearbuilt    fips  lotsizesquarefeet  \n",
       "0     1998.0  6059.0             4506.0  \n",
       "1     1967.0  6111.0            12647.0  \n",
       "2     1962.0  6059.0             8432.0  "
      ]
     },
     "execution_count": 3,
     "metadata": {},
     "output_type": "execute_result"
    }
   ],
   "source": [
    "df.head(3)"
   ]
  },
  {
   "cell_type": "markdown",
   "id": "f25d607c",
   "metadata": {},
   "source": [
    "# 2. Clean Data"
   ]
  },
  {
   "cell_type": "markdown",
   "id": "8ea5f11d",
   "metadata": {},
   "source": [
    "## Calling cleaning function that also lives in my wrangle file. This function: \n",
    "- creates a column called \"property age\" that holds values for the age the property was in 2017\n",
    "- renames columns to be more human readable\n",
    "- replaces any white spaces with null values\n",
    "- deletes all null values\n",
    "- converts datatypes to integers (with the excpetion of 'fips')\n",
    "- translates 'fips' to county and gives the counties human readable names\n",
    "- gets dummies for counties to be modleable\n",
    "- removes outliers based on human discretion \n",
    "- - houses will have no more than 5 bedrooms and/or 5 bathrooms\n",
    "- - be between 1,000 and 7,000 square feet\n",
    "- - have no more than 20,000 sqarefoot lot size\n",
    "- - and be no more than 1.3 million dollars\n",
    "- after making appropriate calculations, columns 'fips', and 'yearbuilt' are dropped\n",
    "- finally, a dataframe is returned."
   ]
  },
  {
   "cell_type": "code",
   "execution_count": 4,
   "id": "2ca735cc",
   "metadata": {},
   "outputs": [],
   "source": [
    "df=w.clean_data(df)"
   ]
  },
  {
   "cell_type": "markdown",
   "id": "b9f15b0d",
   "metadata": {},
   "source": [
    "# 3. Split Data"
   ]
  },
  {
   "cell_type": "code",
   "execution_count": 5,
   "id": "6375511e",
   "metadata": {},
   "outputs": [],
   "source": [
    "#split data into three main dataframes\n",
    "train, validate, test = w.split_data(df)"
   ]
  },
  {
   "cell_type": "code",
   "execution_count": 6,
   "id": "b47238d0",
   "metadata": {},
   "outputs": [],
   "source": [
    "# secondary split to seperate the target feature\n",
    "X_train, y_train, X_validate, y_validate,  X_test, y_test = w.X_y_split(df, 'property_value')\n"
   ]
  },
  {
   "cell_type": "markdown",
   "id": "e7ea7c3e",
   "metadata": {},
   "source": [
    "# 4. Feature Engineering\n"
   ]
  },
  {
   "cell_type": "markdown",
   "id": "dfe36cfb",
   "metadata": {},
   "source": [
    "### After an inital evaluation I decided to engineer some new features before exploring. I calculated the ratio of bathrooms to bedrooms (bath/bed), and the ratio of house square footage to lot square footage."
   ]
  },
  {
   "cell_type": "code",
   "execution_count": 7,
   "id": "ab504e84",
   "metadata": {},
   "outputs": [],
   "source": [
    "#here we give all three dataframes all three of the generated features\n",
    "train, validate, test = w.feature_generator(train, validate, test)"
   ]
  },
  {
   "cell_type": "code",
   "execution_count": 8,
   "id": "49d82f89",
   "metadata": {},
   "outputs": [
    {
     "data": {
      "text/html": [
       "<div>\n",
       "<style scoped>\n",
       "    .dataframe tbody tr th:only-of-type {\n",
       "        vertical-align: middle;\n",
       "    }\n",
       "\n",
       "    .dataframe tbody tr th {\n",
       "        vertical-align: top;\n",
       "    }\n",
       "\n",
       "    .dataframe thead th {\n",
       "        text-align: right;\n",
       "    }\n",
       "</style>\n",
       "<table border=\"1\" class=\"dataframe\">\n",
       "  <thead>\n",
       "    <tr style=\"text-align: right;\">\n",
       "      <th></th>\n",
       "      <th>bath_rooms</th>\n",
       "      <th>bed_rooms</th>\n",
       "      <th>property_value</th>\n",
       "      <th>house_square_feet</th>\n",
       "      <th>property_square_feet</th>\n",
       "      <th>property_age</th>\n",
       "      <th>year_built</th>\n",
       "      <th>county</th>\n",
       "      <th>county_LA</th>\n",
       "      <th>county_Orange</th>\n",
       "      <th>county_Ventura</th>\n",
       "      <th>bath_to_house_sqft_ratio</th>\n",
       "      <th>house_to_lot_sqft_ratio</th>\n",
       "      <th>bath_to_bed_ratio</th>\n",
       "    </tr>\n",
       "  </thead>\n",
       "  <tbody>\n",
       "    <tr>\n",
       "      <th>43855</th>\n",
       "      <td>2</td>\n",
       "      <td>4</td>\n",
       "      <td>365043.0</td>\n",
       "      <td>1382</td>\n",
       "      <td>6078</td>\n",
       "      <td>63</td>\n",
       "      <td>1954</td>\n",
       "      <td>LA</td>\n",
       "      <td>1</td>\n",
       "      <td>0</td>\n",
       "      <td>0</td>\n",
       "      <td>0.001447</td>\n",
       "      <td>0.227377</td>\n",
       "      <td>0.500000</td>\n",
       "    </tr>\n",
       "    <tr>\n",
       "      <th>28377</th>\n",
       "      <td>2</td>\n",
       "      <td>3</td>\n",
       "      <td>714291.0</td>\n",
       "      <td>2018</td>\n",
       "      <td>2840</td>\n",
       "      <td>19</td>\n",
       "      <td>1998</td>\n",
       "      <td>Orange</td>\n",
       "      <td>0</td>\n",
       "      <td>1</td>\n",
       "      <td>0</td>\n",
       "      <td>0.000991</td>\n",
       "      <td>0.710563</td>\n",
       "      <td>0.666667</td>\n",
       "    </tr>\n",
       "    <tr>\n",
       "      <th>5790</th>\n",
       "      <td>2</td>\n",
       "      <td>2</td>\n",
       "      <td>629951.0</td>\n",
       "      <td>1553</td>\n",
       "      <td>4501</td>\n",
       "      <td>82</td>\n",
       "      <td>1935</td>\n",
       "      <td>LA</td>\n",
       "      <td>1</td>\n",
       "      <td>0</td>\n",
       "      <td>0</td>\n",
       "      <td>0.001288</td>\n",
       "      <td>0.345034</td>\n",
       "      <td>1.000000</td>\n",
       "    </tr>\n",
       "  </tbody>\n",
       "</table>\n",
       "</div>"
      ],
      "text/plain": [
       "       bath_rooms  bed_rooms  property_value  house_square_feet  \\\n",
       "43855           2          4        365043.0               1382   \n",
       "28377           2          3        714291.0               2018   \n",
       "5790            2          2        629951.0               1553   \n",
       "\n",
       "       property_square_feet  property_age  year_built  county  county_LA  \\\n",
       "43855                  6078            63        1954      LA          1   \n",
       "28377                  2840            19        1998  Orange          0   \n",
       "5790                   4501            82        1935      LA          1   \n",
       "\n",
       "       county_Orange  county_Ventura  bath_to_house_sqft_ratio  \\\n",
       "43855              0               0                  0.001447   \n",
       "28377              1               0                  0.000991   \n",
       "5790               0               0                  0.001288   \n",
       "\n",
       "       house_to_lot_sqft_ratio  bath_to_bed_ratio  \n",
       "43855                 0.227377           0.500000  \n",
       "28377                 0.710563           0.666667  \n",
       "5790                  0.345034           1.000000  "
      ]
     },
     "execution_count": 8,
     "metadata": {},
     "output_type": "execute_result"
    }
   ],
   "source": [
    "train.head(3)"
   ]
  },
  {
   "cell_type": "markdown",
   "id": "4228432f",
   "metadata": {},
   "source": [
    "# 5. Exploration and Visualizations"
   ]
  },
  {
   "cell_type": "markdown",
   "id": "5adc7fdf",
   "metadata": {},
   "source": [
    "## 1. Since we are trying to determine home value, what features correlate the most with our target?"
   ]
  },
  {
   "cell_type": "code",
   "execution_count": 9,
   "id": "92e31ac3",
   "metadata": {},
   "outputs": [
    {
     "data": {
      "image/png": "[encoded data removed]",
      "text/plain": [
       "<Figure size 576x864 with 2 Axes>"
      ]
     },
     "metadata": {
      "needs_background": "light"
     },
     "output_type": "display_data"
    }
   ],
   "source": [
    "w.hvalue_corr_heatmap(train)"
   ]
  },
  {
   "cell_type": "markdown",
   "id": "77bae526",
   "metadata": {},
   "source": [
    "## 2. Following that same train of though, what features correlate most with the square footage of a house?"
   ]
  },
  {
   "cell_type": "code",
   "execution_count": 10,
   "id": "74ed4278",
   "metadata": {},
   "outputs": [
    {
     "data": {
      "image/png": "[encoded data removed]",
      "text/plain": [
       "<Figure size 576x864 with 2 Axes>"
      ]
     },
     "metadata": {
      "needs_background": "light"
     },
     "output_type": "display_data"
    }
   ],
   "source": [
    "w.hsqft_corr_heatmap(train)"
   ]
  },
  {
   "cell_type": "markdown",
   "id": "4870f9fe",
   "metadata": {},
   "source": [
    "## At this point, I asked \"what's up with the bathrooms?\"\n"
   ]
  },
  {
   "cell_type": "code",
   "execution_count": 11,
   "id": "657c2a1e",
   "metadata": {},
   "outputs": [
    {
     "data": {
      "image/png": "[encoded data removed]",
      "text/plain": [
       "<Figure size 576x864 with 2 Axes>"
      ]
     },
     "metadata": {
      "needs_background": "light"
     },
     "output_type": "display_data"
    }
   ],
   "source": [
    "w.BTH_corr_heatmap(train)"
   ]
  },
  {
   "cell_type": "markdown",
   "id": "d7465b78",
   "metadata": {},
   "source": [
    "## Is location something significant to consider when trying to predict value?"
   ]
  },
  {
   "cell_type": "code",
   "execution_count": 12,
   "id": "e590b654",
   "metadata": {
    "scrolled": false
   },
   "outputs": [
    {
     "data": {
      "image/png": "[encoded data removed]",
      "text/plain": [
       "<Figure size 432x288 with 4 Axes>"
      ]
     },
     "metadata": {},
     "output_type": "display_data"
    }
   ],
   "source": [
    "w.correlation_by_county(train)"
   ]
  },
  {
   "cell_type": "markdown",
   "id": "5c13a938",
   "metadata": {},
   "source": [
    "## Exploration Summary"
   ]
  },
  {
   "cell_type": "markdown",
   "id": "8abadfa2",
   "metadata": {},
   "source": [
    "* From the target variable of property value we can see that house square footage has the highest correlation so it will be used in future modeling. \n",
    "* Based on the significance of bathrooms and the oddities in bath:house ratio, I will include those features as well. \n",
    "* Location could be significant in future models, but for now I will not use it as I do not want to parce through counties which would be necessary"
   ]
  },
  {
   "cell_type": "markdown",
   "id": "ed18e5ac",
   "metadata": {},
   "source": [
    "# 5. Scaling\n"
   ]
  },
  {
   "cell_type": "code",
   "execution_count": 14,
   "id": "ea56f2a8",
   "metadata": {},
   "outputs": [],
   "source": [
    "# adding engineered features to X before scaling\n",
    "X_train, X_validate, X_test = w.X_feature_generator(X_train, X_validate, X_test)"
   ]
  },
  {
   "cell_type": "code",
   "execution_count": 16,
   "id": "938f513d",
   "metadata": {},
   "outputs": [],
   "source": [
    "#redefining X dataframes\n",
    "X_train, X_validate, X_test=m.X_overwrite(X_train, X_validate, X_test)"
   ]
  },
  {
   "cell_type": "code",
   "execution_count": 18,
   "id": "c3c88935",
   "metadata": {},
   "outputs": [
    {
     "data": {
      "text/html": [
       "<div>\n",
       "<style scoped>\n",
       "    .dataframe tbody tr th:only-of-type {\n",
       "        vertical-align: middle;\n",
       "    }\n",
       "\n",
       "    .dataframe tbody tr th {\n",
       "        vertical-align: top;\n",
       "    }\n",
       "\n",
       "    .dataframe thead th {\n",
       "        text-align: right;\n",
       "    }\n",
       "</style>\n",
       "<table border=\"1\" class=\"dataframe\">\n",
       "  <thead>\n",
       "    <tr style=\"text-align: right;\">\n",
       "      <th></th>\n",
       "      <th>bath_rooms</th>\n",
       "      <th>house_square_feet</th>\n",
       "      <th>bath_to_house_sqft_ratio</th>\n",
       "      <th>bath_to_bed_ratio</th>\n",
       "    </tr>\n",
       "  </thead>\n",
       "  <tbody>\n",
       "    <tr>\n",
       "      <th>43855</th>\n",
       "      <td>2</td>\n",
       "      <td>1382</td>\n",
       "      <td>0.001447</td>\n",
       "      <td>0.500000</td>\n",
       "    </tr>\n",
       "    <tr>\n",
       "      <th>28377</th>\n",
       "      <td>2</td>\n",
       "      <td>2018</td>\n",
       "      <td>0.000991</td>\n",
       "      <td>0.666667</td>\n",
       "    </tr>\n",
       "    <tr>\n",
       "      <th>5790</th>\n",
       "      <td>2</td>\n",
       "      <td>1553</td>\n",
       "      <td>0.001288</td>\n",
       "      <td>1.000000</td>\n",
       "    </tr>\n",
       "  </tbody>\n",
       "</table>\n",
       "</div>"
      ],
      "text/plain": [
       "       bath_rooms  house_square_feet  bath_to_house_sqft_ratio  \\\n",
       "43855           2               1382                  0.001447   \n",
       "28377           2               2018                  0.000991   \n",
       "5790            2               1553                  0.001288   \n",
       "\n",
       "       bath_to_bed_ratio  \n",
       "43855           0.500000  \n",
       "28377           0.666667  \n",
       "5790            1.000000  "
      ]
     },
     "execution_count": 18,
     "metadata": {},
     "output_type": "execute_result"
    }
   ],
   "source": [
    "X_train.head(3)"
   ]
  },
  {
   "cell_type": "markdown",
   "id": "2c4993af",
   "metadata": {},
   "source": [
    "After running min-max and standard scales in a seperate notebook, I decided to use the standard scaler as the shape of the original and scaled data resemble each other more closely than those of the min-max scaler"
   ]
  },
  {
   "cell_type": "code",
   "execution_count": 19,
   "id": "4a9dbe7a",
   "metadata": {},
   "outputs": [],
   "source": [
    "X_train_scaled, X_validate_scaled, X_test_scaled = w.scale_data(X_train, X_validate, X_test)"
   ]
  },
  {
   "cell_type": "code",
   "execution_count": 20,
   "id": "3185b400",
   "metadata": {
    "scrolled": true
   },
   "outputs": [
    {
     "data": {
      "image/png": "[encoded data removed]",
      "text/plain": [
       "<Figure size 936x432 with 2 Axes>"
      ]
     },
     "metadata": {},
     "output_type": "display_data"
    }
   ],
   "source": [
    "w.scaled_figure(X_train, X_train_scaled)"
   ]
  },
  {
   "cell_type": "code",
   "execution_count": 21,
   "id": "461e638a",
   "metadata": {},
   "outputs": [
    {
     "data": {
      "text/html": [
       "<div>\n",
       "<style scoped>\n",
       "    .dataframe tbody tr th:only-of-type {\n",
       "        vertical-align: middle;\n",
       "    }\n",
       "\n",
       "    .dataframe tbody tr th {\n",
       "        vertical-align: top;\n",
       "    }\n",
       "\n",
       "    .dataframe thead th {\n",
       "        text-align: right;\n",
       "    }\n",
       "</style>\n",
       "<table border=\"1\" class=\"dataframe\">\n",
       "  <thead>\n",
       "    <tr style=\"text-align: right;\">\n",
       "      <th></th>\n",
       "      <th>bath_rooms</th>\n",
       "      <th>house_square_feet</th>\n",
       "      <th>bath_to_house_sqft_ratio</th>\n",
       "      <th>bath_to_bed_ratio</th>\n",
       "    </tr>\n",
       "  </thead>\n",
       "  <tbody>\n",
       "    <tr>\n",
       "      <th>43855</th>\n",
       "      <td>-0.233328</td>\n",
       "      <td>-0.668085</td>\n",
       "      <td>0.686947</td>\n",
       "      <td>-0.785908</td>\n",
       "    </tr>\n",
       "    <tr>\n",
       "      <th>28377</th>\n",
       "      <td>-0.233328</td>\n",
       "      <td>0.295523</td>\n",
       "      <td>-0.747467</td>\n",
       "      <td>0.005813</td>\n",
       "    </tr>\n",
       "    <tr>\n",
       "      <th>5790</th>\n",
       "      <td>-0.233328</td>\n",
       "      <td>-0.409001</td>\n",
       "      <td>0.185802</td>\n",
       "      <td>1.589254</td>\n",
       "    </tr>\n",
       "  </tbody>\n",
       "</table>\n",
       "</div>"
      ],
      "text/plain": [
       "       bath_rooms  house_square_feet  bath_to_house_sqft_ratio  \\\n",
       "43855   -0.233328          -0.668085                  0.686947   \n",
       "28377   -0.233328           0.295523                 -0.747467   \n",
       "5790    -0.233328          -0.409001                  0.185802   \n",
       "\n",
       "       bath_to_bed_ratio  \n",
       "43855          -0.785908  \n",
       "28377           0.005813  \n",
       "5790            1.589254  "
      ]
     },
     "execution_count": 21,
     "metadata": {},
     "output_type": "execute_result"
    }
   ],
   "source": [
    "X_train_scaled.head(3)"
   ]
  },
  {
   "cell_type": "markdown",
   "id": "158ea222",
   "metadata": {},
   "source": [
    "# 6. Modeling"
   ]
  },
  {
   "cell_type": "markdown",
   "id": "ad2b9413",
   "metadata": {},
   "source": [
    "## Establishing a Baseline"
   ]
  },
  {
   "cell_type": "markdown",
   "id": "6f009b51",
   "metadata": {},
   "source": [
    "* After comparing the mean and median on in sample and out of sample data, I decided to proceed with mean because the difference between the two is significantly lower"
   ]
  },
  {
   "cell_type": "code",
   "execution_count": 22,
   "id": "5e67e64b",
   "metadata": {},
   "outputs": [
    {
     "data": {
      "text/html": [
       "<div>\n",
       "<style scoped>\n",
       "    .dataframe tbody tr th:only-of-type {\n",
       "        vertical-align: middle;\n",
       "    }\n",
       "\n",
       "    .dataframe tbody tr th {\n",
       "        vertical-align: top;\n",
       "    }\n",
       "\n",
       "    .dataframe thead th {\n",
       "        text-align: right;\n",
       "    }\n",
       "</style>\n",
       "<table border=\"1\" class=\"dataframe\">\n",
       "  <thead>\n",
       "    <tr style=\"text-align: right;\">\n",
       "      <th></th>\n",
       "      <th>model</th>\n",
       "      <th>RMSE_train</th>\n",
       "      <th>RMSE_validate</th>\n",
       "      <th>Difference</th>\n",
       "    </tr>\n",
       "  </thead>\n",
       "  <tbody>\n",
       "    <tr>\n",
       "      <th>0</th>\n",
       "      <td>mean_baseline</td>\n",
       "      <td>273078.053937</td>\n",
       "      <td>272986.785485</td>\n",
       "      <td>91.268452</td>\n",
       "    </tr>\n",
       "    <tr>\n",
       "      <th>1</th>\n",
       "      <td>median_baseline</td>\n",
       "      <td>276570.488398</td>\n",
       "      <td>276442.318011</td>\n",
       "      <td>128.170387</td>\n",
       "    </tr>\n",
       "  </tbody>\n",
       "</table>\n",
       "</div>"
      ],
      "text/plain": [
       "             model     RMSE_train  RMSE_validate  Difference\n",
       "0    mean_baseline  273078.053937  272986.785485   91.268452\n",
       "1  median_baseline  276570.488398  276442.318011  128.170387"
      ]
     },
     "execution_count": 22,
     "metadata": {},
     "output_type": "execute_result"
    }
   ],
   "source": [
    "m.baseline_models(y_train, y_validate)"
   ]
  },
  {
   "cell_type": "markdown",
   "id": "831f802c",
   "metadata": {},
   "source": [
    "## Model Comparisson"
   ]
  },
  {
   "cell_type": "code",
   "execution_count": 23,
   "id": "cf8ddb39",
   "metadata": {},
   "outputs": [
    {
     "data": {
      "text/html": [
       "<div>\n",
       "<style scoped>\n",
       "    .dataframe tbody tr th:only-of-type {\n",
       "        vertical-align: middle;\n",
       "    }\n",
       "\n",
       "    .dataframe tbody tr th {\n",
       "        vertical-align: top;\n",
       "    }\n",
       "\n",
       "    .dataframe thead th {\n",
       "        text-align: right;\n",
       "    }\n",
       "</style>\n",
       "<table border=\"1\" class=\"dataframe\">\n",
       "  <thead>\n",
       "    <tr style=\"text-align: right;\">\n",
       "      <th></th>\n",
       "      <th>model</th>\n",
       "      <th>RMSE_train</th>\n",
       "      <th>r^2_train</th>\n",
       "      <th>RMSE_validate</th>\n",
       "      <th>r^2_validate</th>\n",
       "    </tr>\n",
       "  </thead>\n",
       "  <tbody>\n",
       "    <tr>\n",
       "      <th>0</th>\n",
       "      <td>OLS Regressor</td>\n",
       "      <td>235846.685459</td>\n",
       "      <td>0.254091</td>\n",
       "      <td>237376.636656</td>\n",
       "      <td>0.243987</td>\n",
       "    </tr>\n",
       "    <tr>\n",
       "      <th>1</th>\n",
       "      <td>Lasso_alpha_1</td>\n",
       "      <td>235847.862994</td>\n",
       "      <td>0.254083</td>\n",
       "      <td>237364.243776</td>\n",
       "      <td>0.244066</td>\n",
       "    </tr>\n",
       "    <tr>\n",
       "      <th>2</th>\n",
       "      <td>GLM</td>\n",
       "      <td>237101.126145</td>\n",
       "      <td>0.246135</td>\n",
       "      <td>238977.096673</td>\n",
       "      <td>0.233743</td>\n",
       "    </tr>\n",
       "    <tr>\n",
       "      <th>3</th>\n",
       "      <td>Polynomial</td>\n",
       "      <td>235527.953061</td>\n",
       "      <td>0.256106</td>\n",
       "      <td>237235.626182</td>\n",
       "      <td>0.244883</td>\n",
       "    </tr>\n",
       "  </tbody>\n",
       "</table>\n",
       "</div>"
      ],
      "text/plain": [
       "           model     RMSE_train  r^2_train  RMSE_validate  r^2_validate\n",
       "0  OLS Regressor  235846.685459   0.254091  237376.636656      0.243987\n",
       "1  Lasso_alpha_1  235847.862994   0.254083  237364.243776      0.244066\n",
       "2            GLM  237101.126145   0.246135  238977.096673      0.233743\n",
       "3     Polynomial  235527.953061   0.256106  237235.626182      0.244883"
      ]
     },
     "execution_count": 23,
     "metadata": {},
     "output_type": "execute_result"
    }
   ],
   "source": [
    "# this function runs four regressions models and returns a df of aggregated results\n",
    "m.model_comparisson(X_train_scaled, y_train, X_validate_scaled, y_validate)"
   ]
  },
  {
   "cell_type": "markdown",
   "id": "8f13f5d9",
   "metadata": {},
   "source": [
    "### Based on this data, I decided to use the Polynomial model with degree 2 on my test set because it has the lowest RMSE on both train and validate"
   ]
  },
  {
   "cell_type": "markdown",
   "id": "a8c8b36a",
   "metadata": {},
   "source": [
    "## Code for the Test"
   ]
  },
  {
   "cell_type": "code",
   "execution_count": 24,
   "id": "c729d8e8",
   "metadata": {},
   "outputs": [],
   "source": [
    "# make the polynomial features to get a new set of features\n",
    "pf = PolynomialFeatures(degree=2)\n",
    "\n",
    "# fit and transform X_train_scaled\n",
    "X_train_degree2 = pf.fit_transform(X_train_scaled)\n",
    "\n",
    "# transform X_validate_scaled & X_test_scaled\n",
    "X_validate_degree2 = pf.transform(X_validate_scaled)\n",
    "X_test_degree2 = pf.transform(X_test_scaled)\n"
   ]
  },
  {
   "cell_type": "code",
   "execution_count": 25,
   "id": "818f733c",
   "metadata": {},
   "outputs": [
    {
     "name": "stdout",
     "output_type": "stream",
     "text": [
      "RMSE for Polynomial Model, degrees=2\n",
      "Training/In-Sample:  235527.95306133758 \n",
      "Validation/Out-of-Sample:  237235.6261822522\n"
     ]
    }
   ],
   "source": [
    "# create the model object\n",
    "lm2 = LinearRegression(normalize=True)\n",
    "\n",
    "# fit the model to our training data. We must specify the column in y_train, \n",
    "# since we have converted it to a dataframe from a series! \n",
    "lm2.fit(X_train_degree2, y_train.property_value)\n",
    "\n",
    "# predict train\n",
    "y_train['value_pred_lm2'] = lm2.predict(X_train_degree2)\n",
    "\n",
    "# evaluate: rmse\n",
    "rmse_train = mean_squared_error(y_train.property_value, y_train.value_pred_lm2)**(1/2)\n",
    "\n",
    "# predict validate\n",
    "y_validate['value_pred_lm2'] = lm2.predict(X_validate_degree2)\n",
    "\n",
    "# evaluate: rmse\n",
    "rmse_validate = mean_squared_error(y_validate.property_value, y_validate.value_pred_lm2)**(1/2)\n",
    "\n",
    "print(\"RMSE for Polynomial Model, degrees=2\\nTraining/In-Sample: \", rmse_train, \n",
    "      \"\\nValidation/Out-of-Sample: \", rmse_validate)\n"
   ]
  },
  {
   "cell_type": "code",
   "execution_count": 26,
   "id": "61b652b0",
   "metadata": {},
   "outputs": [
    {
     "name": "stdout",
     "output_type": "stream",
     "text": [
      "RMSE for Polynomial Model, degrees=2 for Test sample:  236811.84574209346\n"
     ]
    }
   ],
   "source": [
    "y_test['value_pred_lm2'] = lm2.predict(X_test_degree2)\n",
    "\n",
    "rmse_test = mean_squared_error(y_test.property_value, y_test.value_pred_lm2) ** (1/2)\n",
    "\n",
    "print(\"RMSE for Polynomial Model, degrees=2 for Test sample: \", rmse_test)"
   ]
  },
  {
   "cell_type": "markdown",
   "id": "6ca4ab2a",
   "metadata": {},
   "source": [
    "# Result of Model: \n",
    "### This model performed better than the baseline and had a result very close to the train and validate sets which means it is not overfit. "
   ]
  },
  {
   "cell_type": "markdown",
   "id": "851f3ac9",
   "metadata": {},
   "source": [
    "# Conclusion:\n",
    "* The features I used, square-feet, bathrooms, bath-to-house ratio, and bath-to-bed ratio all seem to be drivers of the value of a house. "
   ]
  },
  {
   "cell_type": "markdown",
   "id": "1c313664",
   "metadata": {},
   "source": [
    "# Recommentation: \n",
    "* I recommend further analytical breakdown of the relationship between bathrooms and house value. Whether it is very large bathrooms, or many bathrooms, or both\n",
    "* I believe further insights can be gained by analyzing the inverse relationship between 'yearbuilt' and 'property age', specifically in LA county\n",
    "* I recommend more complete data"
   ]
  },
  {
   "cell_type": "markdown",
   "id": "d308ff8c",
   "metadata": {},
   "source": [
    "# Next Steps:\n",
    "* I believe the first step is collecting more specific and complete data for future models to be built upon\n",
    "* With this data as it is, next steps should be taking a deeper look into specific locations more accuate than fips.\n",
    "* I believe human inferences can be made regarding house price based on the yearbuilt and the neighborhood and better models can be built using such features"
   ]
  }
 ],
 "metadata": {
  "kernelspec": {
   "display_name": "Python 3 (ipykernel)",
   "language": "python",
   "name": "python3"
  },
  "language_info": {
   "codemirror_mode": {
    "name": "ipython",
    "version": 3
   },
   "file_extension": ".py",
   "mimetype": "text/x-python",
   "name": "python",
   "nbconvert_exporter": "python",
   "pygments_lexer": "ipython3",
   "version": "3.9.12"
  }
 },
 "nbformat": 4,
 "nbformat_minor": 5
}
